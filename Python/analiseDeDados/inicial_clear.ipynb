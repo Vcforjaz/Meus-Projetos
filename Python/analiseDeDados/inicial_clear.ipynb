{
 "cells": [
  {
   "cell_type": "markdown",
   "metadata": {},
   "source": [
    "Objetivo é analisar um DB de uma empresa que tem mais de 800 mil clientes, e trazer relatórios dos clientes cadastrados, indicando o número de clientes inativos e quais os motivos dos seus cancelamentos."
   ]
  },
  {
   "cell_type": "code",
   "execution_count": null,
   "metadata": {},
   "outputs": [],
   "source": [
    "#1 Importar DB\n",
    "#2 Visualizar DB\n",
    "#3 Correção da DB\n",
    "#4 Analise de cancelamentos\n",
    "#5 Analise do motivo de cancelamentos."
   ]
  },
  {
   "cell_type": "code",
   "execution_count": null,
   "metadata": {},
   "outputs": [],
   "source": [
    "#1 Importar DB\n",
    "import pandas as pd\n",
    "tabela = pd.read_csv(\"cancelamentos.csv\")\n",
    "\n",
    "#2 Visualizar DB\n",
    "tabela = tabela.drop(columns=\"CustomerID\")\n",
    "display(tabela)"
   ]
  },
  {
   "cell_type": "code",
   "execution_count": null,
   "metadata": {},
   "outputs": [],
   "source": [
    "#3 Corrigir valores vázios ou erros de preenchimento\n",
    "display(tabela.info())\n",
    "tabela = tabela.dropna()"
   ]
  },
  {
   "cell_type": "code",
   "execution_count": null,
   "metadata": {},
   "outputs": [],
   "source": [
    "#4 Análise de cancelamentos\n",
    "#busca simples de cancelamentos x clientes atuaias:\n",
    "display(tabela[\"cancelou\"].value_counts())\n",
    "#busca em porcentagem escrito em decimal:\n",
    "display(tabela[\"cancelou\"].value_counts(normalize=True))\n",
    "#busca em porcentagem:\n",
    "display(tabela[\"cancelou\"].value_counts(normalize=True).map(\"{:.1%}\".format))"
   ]
  },
  {
   "cell_type": "code",
   "execution_count": null,
   "metadata": {},
   "outputs": [],
   "source": [
    "#5 Análise de causas de cancelamento\n",
    "import plotly.express as px\n",
    "\n",
    "#criar o grafico\n",
    "for coluna in tabela.columns:\n",
    "    grafico = px.histogram(tabela, x=coluna, color=\"cancelou\")\n",
    "    #exibir o grafico\n",
    "    grafico.show()"
   ]
  },
  {
   "cell_type": "code",
   "execution_count": null,
   "metadata": {},
   "outputs": [],
   "source": [
    "#6 Qual o impacto caso haja solução dos problemas\n",
    "tabela = tabela[tabela[\"duracao_contrato\"]!=\"Monthly\"]\n",
    "tabela = tabela[tabela[\"ligacoes_callcenter\"]<=4]\n",
    "tabela = tabela[tabela[\"dias_atraso\"]<=20]\n",
    "display(tabela[\"cancelou\"].value_counts(normalize=True).map(\"{:.1%}\".format))"
   ]
  }
 ],
 "metadata": {
  "kernelspec": {
   "display_name": "Python 3",
   "language": "python",
   "name": "python3"
  },
  "language_info": {
   "codemirror_mode": {
    "name": "ipython",
    "version": 3
   },
   "file_extension": ".py",
   "mimetype": "text/x-python",
   "name": "python",
   "nbconvert_exporter": "python",
   "pygments_lexer": "ipython3",
   "version": "3.11.8"
  }
 },
 "nbformat": 4,
 "nbformat_minor": 2
}
